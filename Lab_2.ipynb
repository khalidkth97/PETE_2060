{
 "cells": [
  {
   "cell_type": "markdown",
   "metadata": {},
   "source": [
    "# Lab2\n"
   ]
  },
  {
   "cell_type": "markdown",
   "metadata": {},
   "source": [
    "** By Khalid Alkatheeri"
   ]
  },
  {
   "cell_type": "code",
   "execution_count": 22,
   "metadata": {},
   "outputs": [
    {
     "name": "stdout",
     "output_type": "stream",
     "text": [
      "Khalid Alkatheeri\n",
      "777 Ben Hur Rd\n",
      "Baton Rouge, LA, 70820\n",
      "Khalid Alkatheeri\r",
      "777 Ben Hur Rd\r",
      "Baton Rouge, LA, 70820\n"
     ]
    }
   ],
   "source": [
    "## exercise 1: Address\n",
    "\n",
    "\n",
    "print('Khalid Alkatheeri')\n",
    "print('777 Ben Hur Rd')\n",
    "print('Baton Rouge, LA, 70820')\n",
    "\n",
    "print('Khalid Alkatheeri\\r777 Ben Hur Rd\\rBaton Rouge, LA, 70820')"
   ]
  },
  {
   "cell_type": "code",
   "execution_count": 9,
   "metadata": {},
   "outputs": [
    {
     "name": "stdout",
     "output_type": "stream",
     "text": [
      "Hello\n"
     ]
    }
   ],
   "source": [
    "# Exercise 2: Hello user\n",
    "\n",
    "name = input('Khalid')\n",
    "print('Hello')"
   ]
  },
  {
   "cell_type": "code",
   "execution_count": 10,
   "metadata": {},
   "outputs": [
    {
     "data": {
      "text/plain": [
       "str"
      ]
     },
     "execution_count": 10,
     "metadata": {},
     "output_type": "execute_result"
    }
   ],
   "source": [
    "type(name)"
   ]
  },
  {
   "cell_type": "code",
   "execution_count": 23,
   "metadata": {},
   "outputs": [
    {
     "name": "stdout",
     "output_type": "stream",
     "text": [
      "the area of the room is 100.0 square meters\n"
     ]
    }
   ],
   "source": [
    "## Example 3: Area of room\n",
    "\n",
    "length = float(input(' Length of room in meters:'))\n",
    "width = float(input('width of room in meter'))\n",
    "\n",
    "aera = length*width\n",
    "print('the area of the room is',aera,'square meters')"
   ]
  },
  {
   "cell_type": "code",
   "execution_count": 10,
   "metadata": {},
   "outputs": [],
   "source": [
    "def area(length,width):\n",
    "    area = length * width\n",
    "    return area"
   ]
  },
  {
   "cell_type": "code",
   "execution_count": 13,
   "metadata": {},
   "outputs": [
    {
     "ename": "NameError",
     "evalue": "name 'length' is not defined",
     "output_type": "error",
     "traceback": [
      "\u001b[1;31m---------------------------------------------------------------------------\u001b[0m",
      "\u001b[1;31mNameError\u001b[0m                                 Traceback (most recent call last)",
      "\u001b[1;32m<ipython-input-13-336384ecadc6>\u001b[0m in \u001b[0;36m<module>\u001b[1;34m()\u001b[0m\n\u001b[1;32m----> 1\u001b[1;33m \u001b[0marea\u001b[0m\u001b[1;33m(\u001b[0m\u001b[0mlength\u001b[0m\u001b[1;33m,\u001b[0m\u001b[0mwidth\u001b[0m\u001b[1;33m)\u001b[0m\u001b[1;33m\u001b[0m\u001b[0m\n\u001b[0m",
      "\u001b[1;31mNameError\u001b[0m: name 'length' is not defined"
     ]
    }
   ],
   "source": [
    "area(length,width)"
   ]
  },
  {
   "cell_type": "code",
   "execution_count": 12,
   "metadata": {},
   "outputs": [
    {
     "data": {
      "text/plain": [
       "147852"
      ]
     },
     "execution_count": 12,
     "metadata": {},
     "output_type": "execute_result"
    }
   ],
   "source": [
    "area(333,444)"
   ]
  },
  {
   "cell_type": "code",
   "execution_count": 21,
   "metadata": {},
   "outputs": [
    {
     "name": "stdout",
     "output_type": "stream",
     "text": [
      "This software will create a sorted list of integers.\n",
      "Please enter your positive integers one at a time\n",
      "Enter a value of 0 to exit program and display the lis\n",
      "1\n",
      "3\n",
      "3\n",
      "4\n",
      "4\n"
     ]
    }
   ],
   "source": [
    "## Exercise 104: Sorted Order\n",
    "\n",
    "\n",
    "print('This software will create a sorted list of integers.')\n",
    "print('Please enter your positive integers one at a time')\n",
    "print('Enter a value of 0 to exit program and display the lis')\n",
    "\n",
    "\n",
    "myList = []\n",
    "i = 1 \n",
    "\n",
    "while i > 0: \n",
    "    i = int(input('input an integer or 0 to quit'))\n",
    "    myList.append(i)\n",
    "\n",
    "myList.sort()\n",
    "myList.remove(0)\n",
    "for num in myList:\n",
    "    print(myList[num-1])    "
   ]
  },
  {
   "cell_type": "code",
   "execution_count": null,
   "metadata": {},
   "outputs": [],
   "source": []
  }
 ],
 "metadata": {
  "kernelspec": {
   "display_name": "Python 3",
   "language": "python",
   "name": "python3"
  },
  "language_info": {
   "codemirror_mode": {
    "name": "ipython",
    "version": 3
   },
   "file_extension": ".py",
   "mimetype": "text/x-python",
   "name": "python",
   "nbconvert_exporter": "python",
   "pygments_lexer": "ipython3",
   "version": "3.6.3"
  }
 },
 "nbformat": 4,
 "nbformat_minor": 2
}
